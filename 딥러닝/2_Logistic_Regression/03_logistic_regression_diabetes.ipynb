{
 "cells": [
  {
   "cell_type": "code",
   "execution_count": 1,
   "metadata": {},
   "outputs": [],
   "source": [
    "import tensorflow as tf\n",
    "import numpy as np\n",
    "tf.random.set_seed(5)"
   ]
  },
  {
   "cell_type": "code",
   "execution_count": 5,
   "metadata": {},
   "outputs": [
    {
     "data": {
      "text/plain": [
       "(228, 1)"
      ]
     },
     "execution_count": 5,
     "metadata": {},
     "output_type": "execute_result"
    }
   ],
   "source": [
    "#\n",
    "xy = np.loadtxt('data-03-diabetes.csv',delimiter=',',dtype=np.float32)\n",
    "xy.shape  # (759, 9)\n",
    "\n",
    "# 학습 데이터 분리 : 70% , 531개\n",
    "x_train = xy[:531,:-1]\n",
    "y_train = xy[:531,[-1]]\n",
    "x_train.shape   # (531, 8)\n",
    "y_train.shape   # (531, 1)\n",
    "\n",
    "# 검증 데이터 분리 : 30%, 228개\n",
    "x_test = xy[531:,:-1]\n",
    "y_test = xy[531:,[-1]]\n",
    "x_test.shape   # (228, 8)\n",
    "y_test.shape   # (228, 1)"
   ]
  },
  {
   "cell_type": "code",
   "execution_count": 10,
   "metadata": {},
   "outputs": [],
   "source": [
    "# 변수 초기화 : weight, bias\n",
    "# (m,n) * (n,L) = (m,L)\n",
    "# (531,8) * (8,1) = (531,1)\n",
    "W = tf.Variable(tf.random.normal([8,1]), name='weight')  # 중요\n",
    "b = tf.Variable(tf.random.normal([1]), name='bias')"
   ]
  },
  {
   "cell_type": "code",
   "execution_count": 11,
   "metadata": {},
   "outputs": [],
   "source": [
    "# 예측 함수(hypothesis) : H(X) = sigmoid(W*X + b)\n",
    "def hypothesis(X):\n",
    "    return tf.sigmoid(tf.matmul(X,W)) + b  # 내적 곱셈"
   ]
  },
  {
   "cell_type": "code",
   "execution_count": 12,
   "metadata": {},
   "outputs": [],
   "source": [
    "# 비용함수 : logloss, 2진 분류 모델\n",
    "def cost_func():\n",
    "    \n",
    "    cost = -tf.reduce_mean(y_train*tf.math.log(hypothesis(x_train)) +\n",
    "                         (1-y_train)*tf.math.log(1-hypothesis(x_train)))\n",
    "    return cost"
   ]
  },
  {
   "cell_type": "code",
   "execution_count": 13,
   "metadata": {},
   "outputs": [],
   "source": [
    "# 경사 하강법\n",
    "# Learning_rate(학습율)을 0.01 로 설정하여 optimizer객체를 생성\n",
    "optimizer = tf.keras.optimizers.Adam(lr=0.01)"
   ]
  },
  {
   "cell_type": "code",
   "execution_count": 19,
   "metadata": {},
   "outputs": [
    {
     "name": "stdout",
     "output_type": "stream",
     "text": [
      "***** Start Learning!!\n",
      "0000 cost:[ nan ]  W: [[-0.19961962]\n",
      " [-1.0098403 ]\n",
      " [-0.5985454 ]\n",
      " [ 0.45328954]\n",
      " [ 0.07013801]\n",
      " [-0.5845643 ]\n",
      " [ 1.6249347 ]\n",
      " [-0.93383265]]  b: [0.36522233]\n",
      "1000 cost:[ nan ]  W: [[-0.19967464]\n",
      " [-1.0097419 ]\n",
      " [-0.5985111 ]\n",
      " [ 0.4532166 ]\n",
      " [ 0.07010444]\n",
      " [-0.5844947 ]\n",
      " [ 1.6250762 ]\n",
      " [-0.9338891 ]]  b: [0.36532176]\n",
      "2000 cost:[ nan ]  W: [[-0.19971652]\n",
      " [-1.0100646 ]\n",
      " [-0.59919614]\n",
      " [ 0.4537294 ]\n",
      " [ 0.07038593]\n",
      " [-0.5848748 ]\n",
      " [ 1.624479  ]\n",
      " [-0.9335099 ]]  b: [0.36505654]\n",
      "3000 cost:[ nan ]  W: [[-0.19951461]\n",
      " [-1.0099535 ]\n",
      " [-0.59860826]\n",
      " [ 0.45336455]\n",
      " [ 0.07020424]\n",
      " [-0.5847556 ]\n",
      " [ 1.6249645 ]\n",
      " [-0.93370104]]  b: [0.36516815]\n",
      "4000 cost:[ nan ]  W: [[-0.19962054]\n",
      " [-1.0096866 ]\n",
      " [-0.5984019 ]\n",
      " [ 0.45325828]\n",
      " [ 0.06988556]\n",
      " [-0.58441603]\n",
      " [ 1.6253405 ]\n",
      " [-0.93389213]]  b: [0.36540312]\n",
      "5000 cost:[ nan ]  W: [[-0.19920419]\n",
      " [-1.0101877 ]\n",
      " [-0.5989489 ]\n",
      " [ 0.45363352]\n",
      " [ 0.07056118]\n",
      " [-0.58492345]\n",
      " [ 1.6245898 ]\n",
      " [-0.93346083]]  b: [0.36485177]\n",
      "6000 cost:[ nan ]  W: [[-0.19918734]\n",
      " [-1.0102093 ]\n",
      " [-0.59899044]\n",
      " [ 0.45369366]\n",
      " [ 0.07058021]\n",
      " [-0.58494914]\n",
      " [ 1.624598  ]\n",
      " [-0.93341786]]  b: [0.3648421]\n",
      "7000 cost:[ nan ]  W: [[-0.19921666]\n",
      " [-1.0101894 ]\n",
      " [-0.59894025]\n",
      " [ 0.4536231 ]\n",
      " [ 0.07055161]\n",
      " [-0.58492684]\n",
      " [ 1.624602  ]\n",
      " [-0.9334612 ]]  b: [0.36485705]\n",
      "8000 cost:[ nan ]  W: [[-0.19944018]\n",
      " [-1.0100278 ]\n",
      " [-0.59869444]\n",
      " [ 0.45342138]\n",
      " [ 0.07030521]\n",
      " [-0.5847833 ]\n",
      " [ 1.6248051 ]\n",
      " [-0.93365204]]  b: [0.36505723]\n",
      "9000 cost:[ nan ]  W: [[-0.1997031 ]\n",
      " [-1.009719  ]\n",
      " [-0.598339  ]\n",
      " [ 0.45322412]\n",
      " [ 0.07000633]\n",
      " [-0.5844144 ]\n",
      " [ 1.6251717 ]\n",
      " [-0.93391216]]  b: [0.36536828]\n",
      "10000 cost:[ nan ]  W: [[-0.19971995]\n",
      " [-1.0097159 ]\n",
      " [-0.5983984 ]\n",
      " [ 0.45325747]\n",
      " [ 0.07005819]\n",
      " [-0.58439195]\n",
      " [ 1.6251067 ]\n",
      " [-0.933908  ]]  b: [0.3653539]\n",
      "***** Learning Finished!!\n"
     ]
    }
   ],
   "source": [
    "print('***** Start Learning!!')\n",
    "for step in range(10001):\n",
    "    # cost를 minimize 한다\n",
    "    optimizer.minimize(cost_func,var_list=[W,b])\n",
    "    \n",
    "    if step % 1000 == 0:\n",
    "        print('%04d'%step,'cost:[',cost_func().numpy(),']',\n",
    "             ' W:',W.numpy(),' b:',b.numpy())\n",
    "print('***** Learning Finished!!')"
   ]
  },
  {
   "cell_type": "code",
   "execution_count": 20,
   "metadata": {},
   "outputs": [
    {
     "name": "stdout",
     "output_type": "stream",
     "text": [
      "Weight: [[-0.19971995]\n",
      " [-1.0097159 ]\n",
      " [-0.5983984 ]\n",
      " [ 0.45325747]\n",
      " [ 0.07005819]\n",
      " [-0.58439195]\n",
      " [ 1.6251067 ]\n",
      " [-0.933908  ]]\n",
      "Bias: [0.3653539]\n"
     ]
    }
   ],
   "source": [
    "# 회귀 계수, weight과 bias 출력\n",
    "print('Weight:',W.numpy())\n",
    "print('Bias:',b.numpy())"
   ]
  },
  {
   "cell_type": "code",
   "execution_count": 21,
   "metadata": {},
   "outputs": [
    {
     "name": "stdout",
     "output_type": "stream",
     "text": [
      "Accuracy: 0.69736844\n"
     ]
    }
   ],
   "source": [
    "# 정확도 측정 : accuracy computation\n",
    "def predict(X):\n",
    "    return tf.cast(hypothesis(X) > 0.5,dtype=tf.float32)\n",
    "\n",
    "# 검증 데이터를 사용하여 예측\n",
    "preds = predict(x_test)\n",
    "accuracy = tf.reduce_mean(tf.cast(tf.equal(preds,y_test),dtype=tf.float32))\n",
    "\n",
    "print('Accuracy:',accuracy.numpy()) # \n",
    "# print('Hypothesis:\\n',hypothesis(x_test).numpy())\n",
    "# print('Predict:\\n',preds.numpy())"
   ]
  },
  {
   "cell_type": "code",
   "execution_count": null,
   "metadata": {},
   "outputs": [],
   "source": []
  }
 ],
 "metadata": {
  "kernelspec": {
   "display_name": "Python 3",
   "language": "python",
   "name": "python3"
  },
  "language_info": {
   "codemirror_mode": {
    "name": "ipython",
    "version": 3
   },
   "file_extension": ".py",
   "mimetype": "text/x-python",
   "name": "python",
   "nbconvert_exporter": "python",
   "pygments_lexer": "ipython3",
   "version": "3.7.7"
  }
 },
 "nbformat": 4,
 "nbformat_minor": 4
}
