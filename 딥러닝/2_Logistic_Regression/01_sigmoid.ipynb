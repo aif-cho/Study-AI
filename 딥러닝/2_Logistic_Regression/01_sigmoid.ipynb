{
 "cells": [
  {
   "cell_type": "markdown",
   "metadata": {},
   "source": [
    "### sigmoid 함수"
   ]
  },
  {
   "cell_type": "code",
   "execution_count": 5,
   "metadata": {},
   "outputs": [
    {
     "name": "stdout",
     "output_type": "stream",
     "text": [
      "3.7200759760208555e-44\n",
      "4.539786870243442e-05\n",
      "0.5\n",
      "0.9999546021312976\n",
      "1.0\n"
     ]
    }
   ],
   "source": [
    "import math\n",
    "import matplotlib.pyplot as plt\n",
    "\n",
    "def sigmoid(z):\n",
    "    return 1./(1. + math.e**-z)\n",
    "# print(math.e)  # 2.718281828459045\n",
    "\n",
    "print(sigmoid(-100)) # 0에 수렴\n",
    "print(sigmoid(-10))\n",
    "print(sigmoid(0))    # 0.5\n",
    "print(sigmoid(10)) \n",
    "print(sigmoid(100))  # 1에 수렴"
   ]
  },
  {
   "cell_type": "code",
   "execution_count": 7,
   "metadata": {},
   "outputs": [
    {
     "data": {
      "text/plain": [
       "[<matplotlib.lines.Line2D at 0x29e1a3dd748>]"
      ]
     },
     "execution_count": 7,
     "metadata": {},
     "output_type": "execute_result"
    },
    {
     "data": {
      "image/png": "[encoded data removed]",
      "text/plain": [
       "<Figure size 432x288 with 1 Axes>"
      ]
     },
     "metadata": {
      "needs_background": "light"
     },
     "output_type": "display_data"
    }
   ],
   "source": [
    "# 시각화\n",
    "xx,yy = [],[]\n",
    "for k in range(-100,101):\n",
    "    n = sigmoid(k/10)\n",
    "    \n",
    "    xx.append(k/10)\n",
    "    yy.append(n)\n",
    "    \n",
    "plt.plot(xx,yy,'ro')"
   ]
  },
  {
   "cell_type": "code",
   "execution_count": null,
   "metadata": {},
   "outputs": [],
   "source": [
    "# sigmoid : 2진분류(binary classification,Logistic Regression) 모델의\n",
    "#           활성화 함수(Activation Function)"
   ]
  }
 ],
 "metadata": {
  "kernelspec": {
   "display_name": "Python 3",
   "language": "python",
   "name": "python3"
  },
  "language_info": {
   "codemirror_mode": {
    "name": "ipython",
    "version": 3
   },
   "file_extension": ".py",
   "mimetype": "text/x-python",
   "name": "python",
   "nbconvert_exporter": "python",
   "pygments_lexer": "ipython3",
   "version": "3.7.7"
  }
 },
 "nbformat": 4,
 "nbformat_minor": 4
}
