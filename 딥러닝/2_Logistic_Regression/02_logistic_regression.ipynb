{
 "cells": [
  {
   "cell_type": "markdown",
   "metadata": {},
   "source": [
    "### Logistic Regression : 2진 분류"
   ]
  },
  {
   "cell_type": "code",
   "execution_count": 1,
   "metadata": {},
   "outputs": [],
   "source": [
    "import tensorflow as tf\n",
    "import numpy as np\n",
    "import matplotlib.pyplot as plt\n",
    "tf.random.set_seed(5)"
   ]
  },
  {
   "cell_type": "code",
   "execution_count": 2,
   "metadata": {},
   "outputs": [],
   "source": [
    "# x_data : [6,2]\n",
    "x_data = [[1,2],\n",
    "          [2,3],\n",
    "          [3,1],\n",
    "          [4,3],\n",
    "          [5,3],\n",
    "          [6,2]]\n",
    "\n",
    "# y_data : [6,1]\n",
    "y_data = [[0],\n",
    "          [0],\n",
    "          [0],\n",
    "          [1],\n",
    "          [1],\n",
    "          [1]]\n",
    "x_train = np.array(x_data,dtype=np.float32)\n",
    "y_train = np.array(y_data,dtype=np.float32)"
   ]
  },
  {
   "cell_type": "code",
   "execution_count": 3,
   "metadata": {},
   "outputs": [],
   "source": [
    "# 변수 초기화 : weight, bias\n",
    "# (m,n) * (n,L) = (m,L)\n",
    "# (25,3) * (3,1) = (25,1)\n",
    "W = tf.Variable(tf.random.normal([2,1]), name='weight')  # 중요\n",
    "b = tf.Variable(tf.random.normal([1]), name='bias')"
   ]
  },
  {
   "cell_type": "code",
   "execution_count": 4,
   "metadata": {},
   "outputs": [],
   "source": [
    "# 예측 함수(hypothesis) : H(X) = sigmoid(W*X + b)\n",
    "def hypothesis(X):\n",
    "    return tf.sigmoid(tf.matmul(X,W)) + b  # 내적 곱셈"
   ]
  },
  {
   "cell_type": "code",
   "execution_count": 14,
   "metadata": {},
   "outputs": [],
   "source": [
    "# 비용함수 : logloss, 2진 분류 모델\n",
    "def cost_func():\n",
    "    # cost = tf.reduce_mean(tf.square(hypothesis(x_train) - y_train)) # 회귀모델\n",
    "    \n",
    "    cost = -tf.reduce_mean(y_train*tf.math.log(hypothesis(x_train)) +\n",
    "                         (1-y_train)*tf.math.log(1-hypothesis(x_train)))\n",
    "    return cost"
   ]
  },
  {
   "cell_type": "code",
   "execution_count": 15,
   "metadata": {},
   "outputs": [],
   "source": [
    "# 경사 하강법\n",
    "# Learning_rate(학습율)을 0.01 로 설정하여 optimizer객체를 생성\n",
    "optimizer = tf.keras.optimizers.Adam(lr=0.01)"
   ]
  },
  {
   "cell_type": "code",
   "execution_count": 16,
   "metadata": {},
   "outputs": [
    {
     "name": "stdout",
     "output_type": "stream",
     "text": [
      "***** Start learning!!\n",
      "0000 cost:[] nan ]  W: [[10.034181]\n",
      " [-9.966332]] b: [-0.33174622]\n",
      "1000 cost:[] nan ]  W: [[ 13.426198]\n",
      " [-13.351825]] b: [-0.33333346]\n",
      "2000 cost:[] nan ]  W: [[ 14.550961]\n",
      " [-14.49787 ]] b: [-0.33334312]\n",
      "3000 cost:[] nan ]  W: [[ 15.329802]\n",
      " [-15.261077]] b: [-0.33333412]\n",
      "4000 cost:[] nan ]  W: [[ 15.965197]\n",
      " [-15.813433]] b: [-0.33329475]\n",
      "5000 cost:[] nan ]  W: [[ 16.487532]\n",
      " [-16.437475]] b: [-0.3332533]\n",
      "6000 cost:[] nan ]  W: [[ 16.81782 ]\n",
      " [-16.877998]] b: [-0.3333275]\n",
      "7000 cost:[] nan ]  W: [[ 17.073895]\n",
      " [-17.216143]] b: [-0.3331747]\n",
      "8000 cost:[] nan ]  W: [[ 17.279501]\n",
      " [-17.49194 ]] b: [-0.33333734]\n",
      "9000 cost:[] nan ]  W: [[ 17.393406]\n",
      " [-17.642014]] b: [-0.3334219]\n",
      "10000 cost:[] nan ]  W: [[ 17.46021 ]\n",
      " [-17.733086]] b: [-0.3333604]\n",
      "***** Learning Finished!!\n"
     ]
    }
   ],
   "source": [
    "# 학습 시작\n",
    "print('***** Start learning!!')\n",
    "for step in range(10001):\n",
    "    # cost를 minimize 한다\n",
    "    optimizer.minimize(cost_func,var_list=[W,b])\n",
    "    \n",
    "    if step % 1000 == 0:\n",
    "        print('%04d'%step,'cost:[]',cost_func().numpy(),']',\n",
    "              ' W:',W.numpy(),'b:',b.numpy())    # 몇번째, 코스트, w,b\n",
    "        \n",
    "print('***** Learning Finished!!')"
   ]
  },
  {
   "cell_type": "code",
   "execution_count": 17,
   "metadata": {},
   "outputs": [
    {
     "name": "stdout",
     "output_type": "stream",
     "text": [
      "Weight: [[ 17.46021 ]\n",
      " [-17.733086]]\n",
      "Bias: [-0.3333604]\n"
     ]
    }
   ],
   "source": [
    "# 회귀 계수, weight과 bias 출력\n",
    "print('Weight:',W.numpy())\n",
    "print('Bias:',b.numpy())"
   ]
  },
  {
   "cell_type": "code",
   "execution_count": 19,
   "metadata": {},
   "outputs": [
    {
     "name": "stdout",
     "output_type": "stream",
     "text": [
      "Accuracy: 0.8333333\n",
      "Hypothesis:\n",
      " [[-0.3333604 ]\n",
      " [-0.3333604 ]\n",
      " [ 0.66663957]\n",
      " [ 0.66663957]\n",
      " [ 0.66663957]\n",
      " [ 0.66663957]]\n",
      "Predict:\n",
      " [[0.]\n",
      " [0.]\n",
      " [1.]\n",
      " [1.]\n",
      " [1.]\n",
      " [1.]]\n"
     ]
    }
   ],
   "source": [
    "# 정확도 측정 : accuracy computation\n",
    "def predict(X):\n",
    "    return tf.cast(hypothesis(x_train) > 0.5,dtype=tf.float32)\n",
    "\n",
    "# 학습 데이터를 그대로 검증 데이터로 사용하여 예측한 경우\n",
    "x_test = x_train\n",
    "y_test = y_train\n",
    "\n",
    "preds = predict(x_test)\n",
    "accuracy = tf.reduce_mean(tf.cast(tf.equal(preds,y_test),dtype=tf.float32))\n",
    "\n",
    "print('Accuracy:',accuracy.numpy()) # Accuracy: 1.0\n",
    "print('Hypothesis:\\n',hypothesis(x_test).numpy())\n",
    "print('Predict:\\n',preds.numpy())"
   ]
  },
  {
   "cell_type": "code",
   "execution_count": 12,
   "metadata": {},
   "outputs": [
    {
     "name": "stdout",
     "output_type": "stream",
     "text": [
      "*****Predict\n",
      "[[0.]\n",
      " [0.]\n",
      " [1.]\n",
      " [1.]\n",
      " [1.]\n",
      " [1.]]\n"
     ]
    }
   ],
   "source": [
    "# 예측\n",
    "print('*****Predict')\n",
    "x_data = [[1,1],\n",
    "          [2,5],\n",
    "          [3,2],\n",
    "          [4,4],\n",
    "          [5,2],\n",
    "          [6,6]] \n",
    "x_test = np.array(x_data,dtype=np.float32)\n",
    "preds = predict(x_test)\n",
    "print(preds.numpy())"
   ]
  },
  {
   "cell_type": "code",
   "execution_count": null,
   "metadata": {},
   "outputs": [],
   "source": []
  }
 ],
 "metadata": {
  "kernelspec": {
   "display_name": "Python 3",
   "language": "python",
   "name": "python3"
  },
  "language_info": {
   "codemirror_mode": {
    "name": "ipython",
    "version": 3
   },
   "file_extension": ".py",
   "mimetype": "text/x-python",
   "name": "python",
   "nbconvert_exporter": "python",
   "pygments_lexer": "ipython3",
   "version": "3.7.7"
  }
 },
 "nbformat": 4,
 "nbformat_minor": 4
}
