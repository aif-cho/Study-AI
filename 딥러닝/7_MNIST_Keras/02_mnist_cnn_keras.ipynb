{
 "cells": [
  {
   "cell_type": "code",
   "execution_count": 1,
   "metadata": {},
   "outputs": [],
   "source": [
    "# mnist_cnn_keras\n",
    "import tensorflow as tf\n",
    "import numpy as np\n",
    "import matplotlib.pyplot as plt\n"
   ]
  },
  {
   "cell_type": "code",
   "execution_count": 4,
   "metadata": {},
   "outputs": [
    {
     "name": "stdout",
     "output_type": "stream",
     "text": [
      "(60000, 28, 28, 1) (10000, 28, 28, 1)\n",
      "(60000,) (10000,)\n"
     ]
    }
   ],
   "source": [
    "# mnist 데이터 가져오기\n",
    "mnist = tf.keras.datasets.mnist\n",
    "(x_train,y_train),(x_test,y_test) = mnist.load_data()\n",
    "\n",
    "# X값의 타입을 float형으로 변환\n",
    "x_train = tf.cast(x_train,dtype=tf.float32)\n",
    "x_test = tf.cast(x_test,dtype=tf.float32)\n",
    "\n",
    "# X값의 shape을 4차원으로 변환\n",
    "x_train = tf.reshape(x_train,[-1,28,28,1])\n",
    "x_test = tf.reshape(x_test,[-1,28,28,1])\n",
    "\n",
    "print(x_train.shape, x_test.shape)\n",
    "print(y_train.shape, y_test.shape)"
   ]
  },
  {
   "cell_type": "code",
   "execution_count": 10,
   "metadata": {},
   "outputs": [
    {
     "name": "stdout",
     "output_type": "stream",
     "text": [
      "Model: \"sequential_4\"\n",
      "_________________________________________________________________\n",
      "Layer (type)                 Output Shape              Param #   \n",
      "=================================================================\n",
      "conv2d_7 (Conv2D)            (None, 28, 28, 32)        320       \n",
      "_________________________________________________________________\n",
      "dense_7 (Dense)              (None, 28, 28, 10)        330       \n",
      "_________________________________________________________________\n",
      "max_pooling2d_7 (MaxPooling2 (None, 14, 14, 10)        0         \n",
      "_________________________________________________________________\n",
      "conv2d_8 (Conv2D)            (None, 14, 14, 64)        5824      \n",
      "_________________________________________________________________\n",
      "dense_8 (Dense)              (None, 14, 14, 10)        650       \n",
      "_________________________________________________________________\n",
      "max_pooling2d_8 (MaxPooling2 (None, 7, 7, 10)          0         \n",
      "_________________________________________________________________\n",
      "conv2d_9 (Conv2D)            (None, 7, 7, 128)         11648     \n",
      "_________________________________________________________________\n",
      "dense_9 (Dense)              (None, 7, 7, 10)          1290      \n",
      "_________________________________________________________________\n",
      "max_pooling2d_9 (MaxPooling2 (None, 4, 4, 10)          0         \n",
      "_________________________________________________________________\n",
      "flatten (Flatten)            (None, 160)               0         \n",
      "_________________________________________________________________\n",
      "dense_10 (Dense)             (None, 10)                1610      \n",
      "=================================================================\n",
      "Total params: 21,672\n",
      "Trainable params: 21,672\n",
      "Non-trainable params: 0\n",
      "_________________________________________________________________\n"
     ]
    }
   ],
   "source": [
    "# MNIST 분류 CNN keras 모델 구현\n",
    "model = tf.keras.Sequential([\n",
    "    tf.keras.layers.Conv2D(input_shape=(28, 28, 1),kernel_size=(3,3),filters=32,padding='same'),\n",
    "    tf.keras.layers.Dense(units=10,activation='relu'),\n",
    "    tf.keras.layers.MaxPool2D(pool_size=(2,2),strides=(2,2),padding='same'),\n",
    "\n",
    "    tf.keras.layers.Conv2D(input_shape=(14, 14, 1),kernel_size=(3,3),filters=64,padding='same'),\n",
    "    tf.keras.layers.Dense(units=10,activation='relu'),\n",
    "    tf.keras.layers.MaxPool2D(pool_size=(2,2),strides=(2,2),padding='same'),  \n",
    "    \n",
    "    tf.keras.layers.Conv2D(input_shape=(7, 7, 1),kernel_size=(3,3),filters=128,padding='same'),\n",
    "    tf.keras.layers.Dense(units=10,activation='relu'),\n",
    "    tf.keras.layers.MaxPool2D(pool_size=(2,2),strides=(2,2),padding='same'), \n",
    "    \n",
    "    tf.keras.layers.Flatten(),\n",
    "    tf.keras.layers.Dense(units=10,activation='softmax')\n",
    "])\n",
    "\n",
    "model.compile(optimizer=tf.keras.optimizers.Adam(),\n",
    "             loss = 'sparse_categorical_crossentropy',\n",
    "             metrics = ['accuracy'])\n",
    "\n",
    "model.summary()\n",
    "\n",
    "# https://www.tensorflow.org/api_docs/python/tf/keras/layers/Conv2D\n",
    "# tf.keras.layers.Conv2D(\n",
    "#     filters, kernel_size, strides=(1, 1), padding='valid', data_format=None,\n",
    "#     dilation_rate=(1, 1), groups=1, activation=None, use_bias=True,\n",
    "#     kernel_initializer='glorot_uniform', bias_initializer='zeros',\n",
    "#     kernel_regularizer=None, bias_regularizer=None, activity_regularizer=None,\n",
    "#     kernel_constraint=None, bias_constraint=None, **kwargs\n",
    "# )\n",
    "\n",
    "# https://yeomko.tistory.com/40\n",
    "# Xavier Glorot Initialization : W(Weight) 값을 fan_in,fan_out를 사용하여 초기화하여 정확도 향상\n",
    "\n",
    "# loss 종류\n",
    "# mean_squared_error : 평균제곱 오차\n",
    "# binary_crossentropy : 이진분류 오차\n",
    "# categorical_crossentropy : 다중 분류 오차. one-hot encoding 클래스, [0.2, 0.3, 0.5] 와 같은 출력값과 실측값의 오차값을 계산한다.\n",
    "# sparse_categorical_crossentropy: 다중 분류 오차. 위와 동일하지만 , integer type 클래스라는 것이 다르다.\n"
   ]
  },
  {
   "cell_type": "code",
   "execution_count": 13,
   "metadata": {},
   "outputs": [],
   "source": [
    "model.fit(x_train,y_train,epochs=25,validation_split=0.25)"
   ]
  },
  {
   "cell_type": "code",
   "execution_count": 15,
   "metadata": {},
   "outputs": [],
   "source": [
    "model.evaluate(x_test,y_test,verbose=0)"
   ]
  },
  {
   "cell_type": "code",
   "execution_count": null,
   "metadata": {},
   "outputs": [],
   "source": []
  }
 ],
 "metadata": {
  "kernelspec": {
   "display_name": "Python 3",
   "language": "python",
   "name": "python3"
  },
  "language_info": {
   "codemirror_mode": {
    "name": "ipython",
    "version": 3
   },
   "file_extension": ".py",
   "mimetype": "text/x-python",
   "name": "python",
   "nbconvert_exporter": "python",
   "pygments_lexer": "ipython3",
   "version": "3.7.7"
  }
 },
 "nbformat": 4,
 "nbformat_minor": 4
}
